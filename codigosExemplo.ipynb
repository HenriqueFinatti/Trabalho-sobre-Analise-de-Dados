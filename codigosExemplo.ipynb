{
 "cells": [
  {
   "cell_type": "code",
   "execution_count": null,
   "metadata": {},
   "outputs": [],
   "source": [
    "#Histograma"
   ]
  },
  {
   "cell_type": "code",
   "execution_count": null,
   "metadata": {},
   "outputs": [],
   "source": [
    "import numpy as np\n",
    "import matplotlib.pyplot as plt\n",
    "from scipy import stats\n",
    "base = [26, 39, 26, 29,34,27,28,30,29,32,34,30,29,32,21,24,23,29,30,36,31,37,34,30,27,28,33,28,32,34,27,34,29,31,27,32,33,36,37,30,\n",
    "33,23,26,27,30,29,30,31,28,27\n",
    "]\n",
    "print(stats.describe(base)) # descreve os resultados\n",
    "plt.hist(base, bins = 'auto')\n",
    "plt.title('Dados')\n",
    "plt.ylabel('Frequência')\n",
    "plt.xlabel('Valores')\n",
    "plt.show()"
   ]
  },
  {
   "cell_type": "code",
   "execution_count": null,
   "metadata": {},
   "outputs": [],
   "source": [
    "# Media, Variancia e Desvio Padrão"
   ]
  },
  {
   "cell_type": "code",
   "execution_count": null,
   "metadata": {},
   "outputs": [],
   "source": [
    "print(np.mean(base)) #calcula a média\n",
    "print(np.median(base))# calcula a mediana\n",
    "print(np.std(base, ddof = 1))#calcula o desvio padrão"
   ]
  }
 ],
 "metadata": {
  "language_info": {
   "name": "python"
  }
 },
 "nbformat": 4,
 "nbformat_minor": 2
}
